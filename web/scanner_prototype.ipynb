{
 "cells": [
  {
   "cell_type": "code",
   "execution_count": null,
   "metadata": {},
   "outputs": [],
   "source": [
    "# import os\n",
    "# import sys \n",
    "import cv2 \n",
    "# from PIL import Image\n",
    "import pytesseract as pt \n",
    "pt.pytesseract.tesseract_cmd=r'/home/gol/Documents/koding/nutriAI/nutriai/tesseract-ocr-w64-setup-v5.2.0.20220712.exe'"
   ]
  },
  {
   "cell_type": "code",
   "execution_count": null,
   "metadata": {
    "scrolled": true
   },
   "outputs": [],
   "source": [
    "path = '/home/gol/Documents/koding/nutriAI/web/sample_pict/apkom 1.png'\n",
    "img = cv2.imread(path)\n",
    "cv2.imshow('apkom 1', img)\n",
    "cv2.waitKey(0)\n",
    "cv2.destroyAllWindows()"
   ]
  },
  {
   "cell_type": "code",
   "execution_count": null,
   "metadata": {},
   "outputs": [],
   "source": [
    "text = pt.image_to_string(img)"
   ]
  },
  {
   "cell_type": "code",
   "execution_count": null,
   "metadata": {},
   "outputs": [],
   "source": []
  }
 ],
 "metadata": {
  "kernelspec": {
   "display_name": "Python 3 (ipykernel)",
   "language": "python",
   "name": "python3"
  },
  "language_info": {
   "codemirror_mode": {
    "name": "ipython",
    "version": 3
   },
   "file_extension": ".py",
   "mimetype": "text/x-python",
   "name": "python",
   "nbconvert_exporter": "python",
   "pygments_lexer": "ipython3",
   "version": "3.10.6"
  },
  "vscode": {
   "interpreter": {
    "hash": "2f171bb3481d3447696a8468c421c8be108a124e5cd4f5eb38d21f95b6f9fd74"
   }
  }
 },
 "nbformat": 4,
 "nbformat_minor": 2
}
